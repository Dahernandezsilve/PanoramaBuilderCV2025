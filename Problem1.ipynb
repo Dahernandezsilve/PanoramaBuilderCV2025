{
 "cells": [
  {
   "cell_type": "markdown",
   "metadata": {},
   "source": [
    "<table style=\"width:100%; border-collapse: collapse;\">\n",
    "  <tr>\n",
    "    <td style=\"width:20%; vertical-align:middle;\">\n",
    "      <img src=\"LogoUVG.png\" width=\"400\"/>\n",
    "    </td>\n",
    "    <td style=\"text-align:left; vertical-align:middle;\">\n",
    "      <h2 style=\"margin-bottom: 0;\">Universidad del Valle de Guatemala - UVG</h2>\n",
    "      <h3 style=\"margin-top: 0;\">Facultad de Ingeniería - Computación</h3>\n",
    "      <p style=\"font-size: 16px; margin-bottom: 0; margin-top: -20px\">\n",
    "        <strong>Curso:</strong> Visión por Computadora \n",
    "        <strong>Sección:</strong> 10\n",
    "      </p>\n",
    "      <p style=\"font-size: 16px; margin: 0;\"><strong>Proyecto 2:</strong> Detección en video e imágenes</p>\n",
    "      <br>\n",
    "      <p style=\"font-size: 15px; margin: 0;\"><strong>Autores:</strong></p>\n",
    "      <ul style=\"margin-top: 5px; padding-left: 20px; font-size: 15px;\">\n",
    "        <li>Diego Alexander Hernández Silvestre - <strong>21270</strong></li>\n",
    "        <li>Linda Inés Jiménez Vides - <strong>21169</strong></li>\n",
    "        <li>José Andrés Auyón Cobar - <strong>201579</strong></li>\n",
    "      </ul>\n",
    "    </td>\n",
    "  </tr>\n",
    "</table>\n"
   ]
  },
  {
   "cell_type": "markdown",
   "metadata": {},
   "source": [
    "#### Librerias 📚"
   ]
  },
  {
   "cell_type": "code",
   "execution_count": 3,
   "metadata": {},
   "outputs": [],
   "source": [
    "import cv2\n",
    "import mediapipe as mp\n",
    "import time"
   ]
  },
  {
   "cell_type": "code",
   "execution_count": 4,
   "metadata": {},
   "outputs": [],
   "source": [
    "mpHands = mp.solutions.hands\n",
    "mpDrawing = mp.solutions.drawing_utils\n",
    "mpStyles = mp.solutions.drawing_styles\n",
    "prevTime = 0\n",
    "hands = mpHands.Hands(\n",
    "    static_image_mode=False,\n",
    "    max_num_hands=8,\n",
    "    min_detection_confidence=0.5,\n",
    "    min_tracking_confidence=0.5\n",
    ")\n",
    "cap = cv2.VideoCapture(0)\n",
    "\n",
    "while cap.isOpened():\n",
    "    ret, frame = cap.read()\n",
    "    if not ret:\n",
    "        break\n",
    "\n",
    "    frame = cv2.flip(frame, 1)\n",
    "    rgbImage = cv2.cvtColor(frame, cv2.COLOR_BGR2RGB)\n",
    "    rgbImage.flags.writeable = False\n",
    "    results = hands.process(rgbImage)\n",
    "    rgbImage.flags.writeable = True\n",
    "    bgrImage = cv2.cvtColor(rgbImage, cv2.COLOR_RGB2BGR)\n",
    "\n",
    "    if results.multi_hand_landmarks:\n",
    "        for handLandmarks in results.multi_hand_landmarks:\n",
    "            mpDrawing.draw_landmarks(\n",
    "                image=bgrImage,\n",
    "                landmark_list=handLandmarks,\n",
    "                connections=mpHands.HAND_CONNECTIONS,\n",
    "                landmark_drawing_spec=mpStyles.get_default_hand_landmarks_style(),\n",
    "                connection_drawing_spec=mpStyles.get_default_hand_connections_style()\n",
    "            )\n",
    "            h, w, _ = bgrImage.shape\n",
    "            xMin, yMin = w, h\n",
    "            xMax, yMax = 0, 0\n",
    "\n",
    "            for lm in handLandmarks.landmark:\n",
    "                x, y = int(lm.x * w), int(lm.y * h)\n",
    "                xMin = min(xMin, x)\n",
    "                yMin = min(yMin, y)\n",
    "                xMax = max(xMax, x)\n",
    "                yMax = max(yMax, y)\n",
    "\n",
    "            cv2.rectangle(bgrImage, (xMin - 20, yMin - 20), (xMax + 20, yMax + 20), (0, 255, 100), 2, lineType=cv2.LINE_AA)\n",
    "\n",
    "    currTime = time.time()\n",
    "    fps = 1 / (currTime - prevTime) if (currTime - prevTime) > 0 else 0\n",
    "    prevTime = currTime\n",
    "    windowTitle = f'I. Deteccion de manos y keypoints - FPS: {int(fps)}'\n",
    "    cv2.setWindowTitle('main', windowTitle)\n",
    "    bgrImage = cv2.resize(bgrImage, (1280, 960))\n",
    "    cv2.imshow('main', bgrImage)\n",
    "    cv2.resizeWindow('main', 1280, 960)\n",
    "    if cv2.waitKey(5) & 0xFF == ord('e'):\n",
    "        break\n",
    "\n",
    "cap.release()\n",
    "cv2.destroyAllWindows()"
   ]
  }
 ],
 "metadata": {
  "kernelspec": {
   "display_name": "venv",
   "language": "python",
   "name": "python3"
  },
  "language_info": {
   "codemirror_mode": {
    "name": "ipython",
    "version": 3
   },
   "file_extension": ".py",
   "mimetype": "text/x-python",
   "name": "python",
   "nbconvert_exporter": "python",
   "pygments_lexer": "ipython3",
   "version": "3.11.8"
  }
 },
 "nbformat": 4,
 "nbformat_minor": 2
}
